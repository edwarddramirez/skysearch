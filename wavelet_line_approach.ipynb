{
 "cells": [
  {
   "cell_type": "code",
   "execution_count": 8,
   "metadata": {},
   "outputs": [],
   "source": [
    "### Description:\n",
    "# In these cells, we constructed the wavelet line approach for the 2D case\n",
    "# We found that our previous approach was inefficient. By calculating the \n",
    "# argument of the wavelet and applying the grid on the output, the program\n",
    "# was really calculating the wavelet coefficient over all data points and then\n",
    "# stored only the values that were in the grid. \n",
    "\n",
    "# What we did not is just define the truncated mesh grid and calculated the \n",
    "# wavelet coefficient with the truncated grid.\n",
    "\n",
    "### Further Considerations:\n",
    "# HOWEVER, though it is more efficient, once we deal with bins containing 100x\n",
    "# more datapoints, we will run into the same memory problem with the nodes.\n",
    "\n",
    "# At that point, we would need to calculate the wavelet coefficients using\n",
    "# a nested for loop where all the values are calculated at once. But,\n",
    "# as the time will increase by about a factor of 10, we again return to \n",
    "# applying this \"_line\" approach for each node, where each calculation would \n",
    "# take a 1-15 minutes."
   ]
  },
  {
   "cell_type": "code",
   "execution_count": 9,
   "metadata": {},
   "outputs": [],
   "source": [
    "import os\n",
    "os.chdir('/het/p4/ramirez/gcewavelets/skysearch/code/')\n",
    "\n",
    "import numpy as np\n",
    "import sys, os\n",
    "import _maps as maps\n",
    "\n",
    "import healpy as hp\n",
    "import astropy_healpix\n",
    "\n",
    "import matplotlib.pyplot as plt\n",
    "import matplotlib as mpl\n",
    "\n",
    "\n",
    "from scipy import ndimage as ndi\n",
    "from skimage.feature import peak_local_max\n",
    "from skimage import data, img_as_float\n",
    "\n",
    "from tqdm import tqdm"
   ]
  },
  {
   "cell_type": "code",
   "execution_count": 10,
   "metadata": {},
   "outputs": [],
   "source": [
    "# load local directory\n",
    "username=\"ramirez\"\n",
    "local_dir = \"/het/p4/\"+username+\"/gcewavelets/skysearch/\"\n",
    "maps_dir = \"/het/p4/\"+username+\"/gcewavelets/skysearch/data/maps/\"\n",
    "\n",
    "# ---\n",
    " # Block: Specify map ids\n",
    "model = 'ilias_60x60' # only available option: SA0\n",
    "trial_id = str(0)\n",
    "model_dir = maps_dir + (model + '_' + trial_id + '/')\n",
    "energy_bin = '16'\n",
    "map_type = 'all'\n",
    "\n",
    "# inj_ids\n",
    "inj_id_list = [1008,1009,1010,1015,1020,1025,1030,1035]\n",
    "N_counts_list = [8,9,10,15,20,25,30,35]\n",
    "\n",
    "n_inj = 6\n",
    "inj_id = str(inj_id_list[n_inj])\n",
    "N_counts = N_counts_list[n_inj]\n",
    "\n",
    "# load events from map \n",
    "if energy_bin == 'all' or energy_bin == str(-1):\n",
    "    if map_type == 'bkgd':\n",
    "        map_dir = model_dir + 'bkgd/'\n",
    "    elif map_type == 'all':\n",
    "        map_dir = model_dir + ('bkgd_wps_' + inj_id + '/') \n",
    "else:\n",
    "    ie = int(float(energy_bin))\n",
    "    if map_type == 'bkgd':\n",
    "        bkgd_dir = model_dir + 'bkgd/'\n",
    "        map_dir = bkgd_dir + 'energy_bin_' + str(ie) + '/'\n",
    "    elif map_type == 'all':\n",
    "        bkgd_wps_dir = model_dir + ('bkgd_wps_' + inj_id + '/')\n",
    "        map_dir = bkgd_wps_dir + 'energy_bin_' + str(ie) + '/'  \n",
    "\n",
    "data_dir = map_dir + 'projected_maps/'\n",
    "# ---\n",
    "\n",
    "# load father pixel and data\n",
    "npix = 112\n",
    "patch_dir = data_dir + 'map_' + str(npix) + '/'"
   ]
  },
  {
   "cell_type": "code",
   "execution_count": null,
   "metadata": {},
   "outputs": [],
   "source": []
  },
  {
   "cell_type": "code",
   "execution_count": 4,
   "metadata": {},
   "outputs": [],
   "source": [
    "a_deg = 0.1\n",
    "str_a_deg = str.format('{0:.5f}',a_deg)\n",
    "\n",
    "wavelet_name = 'mexh'\n",
    "grid_scale_deg = 0.1\n",
    "str_grid_scale_deg = str.format('{0:.4f}',grid_scale_deg)\n",
    "file_name = wavelet_name + '_' + 'coefficient_map' + '_' + str_a_deg + '_' + str_grid_scale_deg + '.npy'\n",
    "cwt_map_og = np.load(patch_dir + file_name, allow_pickle = True)\n",
    "projected_map = dict(np.load(patch_dir + 'projected_map_dict.npz'))\n",
    "\n",
    "# decided to separate grid and projected maps into two different dictionaries\n",
    "# grid is defined using the total background map for all energies\n",
    "bkgd_patch_dir_all_energies = model_dir + 'bkgd/' + 'energy_bin_' + str(ie) + '/' + 'projected_maps/' + 'map_' + str(npix) + '/'\n",
    "grid_dict = dict(np.load(bkgd_patch_dir_all_energies + 'grid_dict_' + str_grid_scale_deg + '_' + '.npz'))\n",
    "mesh_bxby = grid_dict['rectangular_grid']\n",
    "grid = grid_dict['grid']"
   ]
  },
  {
   "cell_type": "code",
   "execution_count": 7,
   "metadata": {},
   "outputs": [
    {
     "data": {
      "text/plain": [
       "dict_keys(['grid', 'rectangular_grid', 'rectangular_grid_points', 'grid_flat', 'arr_bx_plot', 'arr_by_plot'])"
      ]
     },
     "execution_count": 7,
     "metadata": {},
     "output_type": "execute_result"
    }
   ],
   "source": [
    "grid_dict.keys()"
   ]
  },
  {
   "cell_type": "code",
   "execution_count": 25,
   "metadata": {},
   "outputs": [],
   "source": [
    "r_out_edge = projected_map['outer_region_edge']\n",
    "x_out_edge = r_out_edge[:,0] ; y_out_edge = r_out_edge[:,1]\n",
    "bx_min, bx_max, by_min, by_max = [np.min(x_out_edge), np.max(x_out_edge),\n",
    "                                  np.min(y_out_edge), np.max(y_out_edge)]"
   ]
  },
  {
   "cell_type": "code",
   "execution_count": 26,
   "metadata": {},
   "outputs": [],
   "source": [
    "scale = 0.1 * np.pi / 180\n",
    "step_size = scale \n",
    "mesh_bxby, arr_b, arr_bx_plot, arr_by_plot = maps.build_mesh_(bx_min, bx_max, by_min, by_max, step_size, step_size, return_arrays_for_plotting=True)\n",
    "arr_bx = 0.5 * (arr_bx_plot[:-1] + arr_bx_plot[1:])\n",
    "arr_by = 0.5 * (arr_by_plot[:-1] + arr_by_plot[1:])"
   ]
  },
  {
   "cell_type": "code",
   "execution_count": 27,
   "metadata": {},
   "outputs": [
    {
     "data": {
      "text/plain": [
       "<matplotlib.collections.PathCollection at 0x7f90dc8a2ad0>"
      ]
     },
     "execution_count": 27,
     "metadata": {},
     "output_type": "execute_result"
    },
    {
     "data": {
      "image/png": "[encoded data removed]",
      "text/plain": [
       "<Figure size 432x288 with 1 Axes>"
      ]
     },
     "metadata": {
      "needs_background": "light"
     },
     "output_type": "display_data"
    }
   ],
   "source": [
    "plt.scatter(mesh_bxby[:,:,0], mesh_bxby[:,:,1], s = 0.01)\n",
    "plt.scatter(mesh_bxby[grid][:,0], mesh_bxby[grid][:,1], s = 0.01)"
   ]
  },
  {
   "cell_type": "code",
   "execution_count": 28,
   "metadata": {},
   "outputs": [
    {
     "name": "stdout",
     "output_type": "stream",
     "text": [
      "[[-0.00496625 -0.20229968]\n",
      " [-0.00322092 -0.20229968]\n",
      " [-0.00147559 -0.20229968]\n",
      " ...\n",
      " [-0.00147559  0.20261671]\n",
      " [ 0.00026974  0.20261671]\n",
      " [ 0.00201507  0.20261671]]\n"
     ]
    }
   ],
   "source": [
    "print(mesh_bxby[grid])"
   ]
  },
  {
   "cell_type": "code",
   "execution_count": 29,
   "metadata": {},
   "outputs": [
    {
     "name": "stdout",
     "output_type": "stream",
     "text": [
      "[[False False False ... False False False]\n",
      " [False False False ... False False False]\n",
      " [False False False ... False False False]\n",
      " ...\n",
      " [False False False ... False False False]\n",
      " [False False False ... False False False]\n",
      " [False False False ... False False False]]\n",
      "[[-0.00496625 -0.20229968]]\n"
     ]
    },
    {
     "data": {
      "text/plain": [
       "<matplotlib.collections.PathCollection at 0x7f90dc861a10>"
      ]
     },
     "execution_count": 29,
     "metadata": {},
     "output_type": "execute_result"
    },
    {
     "data": {
      "image/png": "[encoded data removed]",
      "text/plain": [
       "<Figure size 432x288 with 1 Axes>"
      ]
     },
     "metadata": {
      "needs_background": "light"
     },
     "output_type": "display_data"
    }
   ],
   "source": [
    "by = arr_by[100]\n",
    "\n",
    "ny = np.where(mesh_bxby[grid][:,1] == by)\n",
    "print(grid)\n",
    "arr_bx_line = mesh_bxby[grid][ny]\n",
    "\n",
    "arr_bx_line = mesh_bxby[grid][ny]\n",
    "grid_bx = ( mesh_bxby == mesh_bxby[grid][0,:] ).all(axis = 2)\n",
    "print(mesh_bxby[grid_bx])\n",
    "\n",
    "grid_bx = ( mesh_bxby[:,:,1] == by ) & (grid)\n",
    "\n",
    "plt.scatter(mesh_bxby[:,:,0], mesh_bxby[:,:,1], s = 0.01)\n",
    "plt.scatter(mesh_bxby[grid][:,0], mesh_bxby[grid][:,1], s = 0.01)\n",
    "# plt.scatter(arr_bx_line[:,0], arr_bx_line[:,1], s = 0.1, c = 'g')\n",
    "plt.scatter(mesh_bxby[grid_bx][:,0], mesh_bxby[grid_bx][:,1], s = 0.1, c = 'b')"
   ]
  },
  {
   "cell_type": "code",
   "execution_count": 30,
   "metadata": {},
   "outputs": [
    {
     "name": "stdout",
     "output_type": "stream",
     "text": [
      "(259,)\n"
     ]
    }
   ],
   "source": [
    "print(arr_bx.shape)"
   ]
  },
  {
   "cell_type": "code",
   "execution_count": null,
   "metadata": {},
   "outputs": [],
   "source": [
    "import _wavelets as wt\n",
    "\n",
    "data = projected_map['all_points']\n",
    "a = a_deg * np.pi / 180\n",
    "arr_a = np.array([a])\n",
    "Na = len(arr_a)\n",
    "\n",
    "# define 2d wavelet\n",
    "mexh = wt._2d_wavelet(wavelet_name)\n",
    "\n",
    "# pre-allocate wavelet coefficient map \n",
    "N_data, N_dim = data.shape\n",
    "Ny, Nx = mesh_bxby.shape[:-1]\n",
    "coefficient_map = np.zeros((Ny, Nx, 1))\n",
    "\n",
    "for ny in tqdm(range(Ny)):\n",
    "    by = arr_by[ny]\n",
    "    ny = np.where(mesh_bxby[grid][:,1] == by)\n",
    "\n",
    "    grid_bx = ( mesh_bxby[:,:,1] == by ) & (grid)\n",
    "\n",
    "    mesh_bxby_grid_bx = mesh_bxby[grid_bx]\n",
    "    \n",
    "    # broadcast arrays in wavelet calculation\n",
    "    buf_data = data[np.newaxis,np.newaxis,np.newaxis]\n",
    "    buf_mesh_bxby = mesh_bxby_grid_bx[:,np.newaxis,np.newaxis,np.newaxis]\n",
    "    buf_arr_a = arr_a[np.newaxis, np.newaxis, :, np.newaxis, np.newaxis]\n",
    "\n",
    "    # calculate arguments of wavelet coefficients\n",
    "    # buf_grid = grid[:,:,np.newaxis,np.newaxis,np.newaxis]\n",
    "    buf_arr_arg_grid =  ( (buf_data - buf_mesh_bxby ) / buf_arr_a )\n",
    "\n",
    "    # calculate wavelet coefficients\n",
    "    buf_mexh_output_grid = mexh.base_fct(buf_arr_arg_grid)\n",
    "\n",
    "    # remove two dimensions of a-array to divide mexh\n",
    "    buf_arr_a_sq = np.squeeze(buf_arr_a, axis = -1)\n",
    "    buf_arr_a_sq = np.squeeze(buf_arr_a_sq, axis = -1)\n",
    "\n",
    "    # estimate wavelet coefficient by summing over datapoints\n",
    "    coefficient_map_flat = np.sum(buf_mexh_output_grid, axis = -1) / buf_arr_a_sq / N_data\n",
    "    coefficient_map_flat_sq = np.squeeze(coefficient_map_flat, axis = -1)\n",
    "\n",
    "    # note that buf_arr_arg_grid is flattened relative to the shape of mesh_bxby\n",
    "    # applying grid to coefficient_map automatically flattens coefficient_map to match to coefficient_map_flat_sq\n",
    "    coefficient_map[grid_bx] = coefficient_map_flat_sq"
   ]
  },
  {
   "cell_type": "code",
   "execution_count": null,
   "metadata": {},
   "outputs": [],
   "source": [
    "fig = plt.figure(1,figsize=(6,4))\n",
    "ax = fig.add_subplot(111)\n",
    "\n",
    "plot = plt.pcolormesh(arr_bx_plot, arr_by_plot, coefficient_map[:,:,0], cmap='cividis', shading='flat'\n",
    "                     , norm=mpl.colors.Normalize(vmin=np.min(cwt_map[:,:,0]), \n",
    "                                                 vmax=np.max(cwt_map[:,:,0])))\n",
    "plt.colorbar(plot)\n",
    "plt.xlabel('x (rad)')\n",
    "plt.ylabel('y (rad)')\n",
    "ax.axis('equal')"
   ]
  },
  {
   "cell_type": "code",
   "execution_count": null,
   "metadata": {},
   "outputs": [],
   "source": [
    "data = projected_map['all_points']\n",
    "a = a_deg * np.pi / 180\n",
    "arr_a = np.array([a])\n",
    "Na = len(arr_a)\n",
    "\n",
    "# pre-allocate wavelet coefficient map \n",
    "N_data, N_dim = data.shape\n",
    "Ny, Nx = mesh_bxby.shape[:-1]\n",
    "coefficient_map = np.zeros((Ny, Nx, 1))\n",
    "\n",
    "# broadcast arrays in wavelet calculation\n",
    "buf_data = data[np.newaxis,np.newaxis,np.newaxis]\n",
    "buf_mesh_bxby = mesh_bxby[:,:,np.newaxis,np.newaxis,np.newaxis]\n",
    "buf_arr_a = arr_a[np.newaxis, np.newaxis, :, np.newaxis, np.newaxis]\n",
    "\n",
    "# calculate arguments of wavelet coefficients\n",
    "# buf_grid = grid[:,:,np.newaxis,np.newaxis,np.newaxis]\n",
    "buf_arr_arg_grid =  ( (buf_data - buf_mesh_bxby ) / buf_arr_a )[grid]\n",
    "\n",
    "# calculate wavelet coefficients\n",
    "buf_mexh_output_grid = mexh.base_fct(buf_arr_arg_grid)\n",
    "\n",
    "# remove two dimensions of a-array to divide mexh\n",
    "buf_arr_a_sq = np.squeeze(buf_arr_a, axis = -1)\n",
    "buf_arr_a_sq = np.squeeze(buf_arr_a_sq, axis = -1)\n",
    "\n",
    "# estimate wavelet coefficient by summing over datapoints\n",
    "coefficient_map_flat = np.sum(buf_mexh_output_grid, axis = -1) / buf_arr_a_sq / N_data\n",
    "coefficient_map_flat_sq = np.squeeze(coefficient_map_flat, axis = -1)\n",
    "\n",
    "# note that buf_arr_arg_grid is flattened relative to the shape of mesh_bxby\n",
    "# applying grid to coefficient_map automatically flattens coefficient_map to match to coefficient_map_flat_sq\n",
    "coefficient_map[grid] = coefficient_map_flat_sq\n"
   ]
  },
  {
   "cell_type": "code",
   "execution_count": 31,
   "metadata": {},
   "outputs": [
    {
     "name": "stderr",
     "output_type": "stream",
     "text": [
      "  0%|          | 0/233 [00:54<?, ?it/s]\n"
     ]
    },
    {
     "ename": "KeyboardInterrupt",
     "evalue": "",
     "output_type": "error",
     "traceback": [
      "\u001b[0;31m---------------------------------------------------------------------------\u001b[0m",
      "\u001b[0;31mKeyboardInterrupt\u001b[0m                         Traceback (most recent call last)",
      "\u001b[0;32m<ipython-input-31-397aaba7f225>\u001b[0m in \u001b[0;36m<module>\u001b[0;34m\u001b[0m\n\u001b[1;32m     22\u001b[0m     \u001b[0;31m# calculate arguments of wavelet coefficients\u001b[0m\u001b[0;34m\u001b[0m\u001b[0;34m\u001b[0m\u001b[0;34m\u001b[0m\u001b[0m\n\u001b[1;32m     23\u001b[0m     \u001b[0;31m# buf_grid = grid[:,:,np.newaxis,np.newaxis,np.newaxis]\u001b[0m\u001b[0;34m\u001b[0m\u001b[0;34m\u001b[0m\u001b[0;34m\u001b[0m\u001b[0m\n\u001b[0;32m---> 24\u001b[0;31m     \u001b[0mbuf_arr_arg_grid\u001b[0m \u001b[0;34m=\u001b[0m  \u001b[0;34m(\u001b[0m \u001b[0;34m(\u001b[0m\u001b[0mbuf_data\u001b[0m \u001b[0;34m-\u001b[0m \u001b[0mbuf_mesh_bxby\u001b[0m \u001b[0;34m)\u001b[0m \u001b[0;34m/\u001b[0m \u001b[0mbuf_arr_a\u001b[0m \u001b[0;34m)\u001b[0m\u001b[0;34m[\u001b[0m\u001b[0mgrid_bx\u001b[0m\u001b[0;34m]\u001b[0m\u001b[0;34m\u001b[0m\u001b[0;34m\u001b[0m\u001b[0m\n\u001b[0m\u001b[1;32m     25\u001b[0m \u001b[0;34m\u001b[0m\u001b[0m\n\u001b[1;32m     26\u001b[0m     \u001b[0;31m# calculate wavelet coefficients\u001b[0m\u001b[0;34m\u001b[0m\u001b[0;34m\u001b[0m\u001b[0;34m\u001b[0m\u001b[0m\n",
      "\u001b[0;31mKeyboardInterrupt\u001b[0m: "
     ]
    }
   ],
   "source": [
    "data = projected_map['all_points']\n",
    "a = a_deg * np.pi / 180\n",
    "arr_a = np.array([a])\n",
    "Na = len(arr_a)\n",
    "\n",
    "# pre-allocate wavelet coefficient map \n",
    "N_data, N_dim = data.shape\n",
    "Ny, Nx = mesh_bxby.shape[:-1]\n",
    "coefficient_map = np.zeros((Ny, Nx, 1))\n",
    "\n",
    "for ny in tqdm(range(Ny)):\n",
    "    by = arr_by[ny]\n",
    "    ny = np.where(mesh_bxby[grid][:,1] == by)\n",
    "\n",
    "    grid_bx = ( mesh_bxby[:,:,1] == by ) & (grid)\n",
    "\n",
    "    # broadcast arrays in wavelet calculation\n",
    "    buf_data = data[np.newaxis,np.newaxis,np.newaxis]\n",
    "    buf_mesh_bxby = mesh_bxby[:,:,np.newaxis,np.newaxis,np.newaxis]\n",
    "    buf_arr_a = arr_a[np.newaxis, np.newaxis, :, np.newaxis, np.newaxis]\n",
    "\n",
    "    # calculate arguments of wavelet coefficients\n",
    "    # buf_grid = grid[:,:,np.newaxis,np.newaxis,np.newaxis]\n",
    "    buf_arr_arg_grid =  ( (buf_data - buf_mesh_bxby ) / buf_arr_a )[grid_bx]\n",
    "\n",
    "    # calculate wavelet coefficients\n",
    "    buf_mexh_output_grid = mexh.base_fct(buf_arr_arg_grid)\n",
    "\n",
    "    # remove two dimensions of a-array to divide mexh\n",
    "    buf_arr_a_sq = np.squeeze(buf_arr_a, axis = -1)\n",
    "    buf_arr_a_sq = np.squeeze(buf_arr_a_sq, axis = -1)\n",
    "\n",
    "    # estimate wavelet coefficient by summing over datapoints\n",
    "    coefficient_map_flat = np.sum(buf_mexh_output_grid, axis = -1) / buf_arr_a_sq / N_data\n",
    "    coefficient_map_flat_sq = np.squeeze(coefficient_map_flat, axis = -1)\n",
    "\n",
    "    # note that buf_arr_arg_grid is flattened relative to the shape of mesh_bxby\n",
    "    # applying grid to coefficient_map automatically flattens coefficient_map to match to coefficient_map_flat_sq\n",
    "    coefficient_map[grid_bx] = coefficient_map_flat_sq"
   ]
  },
  {
   "cell_type": "code",
   "execution_count": 12,
   "metadata": {},
   "outputs": [],
   "source": [
    "# VERIFICATION BLOCKS:\n",
    "# Here we verify that the changes that we made to the wavelet calculation do not affect the output of the wavelet calculation\n",
    "# I.e., comparing generate_wavelet_coefficients.py to generate_wavelet_coefficients_line_complete.py\n",
    "\n",
    "# load local directory\n",
    "username=\"ramirez\"\n",
    "local_dir = \"/het/p4/\"+username+\"/gcewavelets/skysearch/\"\n",
    "maps_dir = \"/het/p4/\"+username+\"/gcewavelets/skysearch/data/maps/\"\n",
    "\n",
    "# ---\n",
    " # Block: Specify map ids\n",
    "model = 'SA0' # only available option: SA0\n",
    "trial_id = str(0)\n",
    "model_dir = maps_dir + (model + '_' + trial_id + '/')\n",
    "energy_bin = 'all'\n",
    "map_type = 'all'\n",
    "\n",
    "# inj_id\n",
    "inj_id = str(0)\n",
    "\n",
    "# load events from map \n",
    "if energy_bin == 'all' or energy_bin == str(-1):\n",
    "    if map_type == 'bkgd':\n",
    "        map_dir = model_dir + 'bkgd/'\n",
    "    elif map_type == 'all':\n",
    "        map_dir = model_dir + ('bkgd_wps_' + inj_id + '/') \n",
    "else:\n",
    "    ie = int(float(energy_bin))\n",
    "    if map_type == 'bkgd':\n",
    "        bkgd_dir = model_dir + 'bkgd/'\n",
    "        map_dir = bkgd_dir + 'energy_bin_' + str(ie) + '/'\n",
    "    elif map_type == 'all':\n",
    "        bkgd_wps_dir = model_dir + ('bkgd_wps_' + inj_id + '/')\n",
    "        map_dir = bkgd_wps_dir + 'energy_bin_' + str(ie) + '/'  \n",
    "\n",
    "data_dir = map_dir + 'projected_maps/'\n",
    "# ---\n",
    "\n",
    "# load father pixel and data\n",
    "npix = 112\n",
    "patch_dir = data_dir + 'map_' + str(npix) + '/'"
   ]
  },
  {
   "cell_type": "code",
   "execution_count": 19,
   "metadata": {},
   "outputs": [],
   "source": [
    "a_deg = 0.1\n",
    "str_a_deg = str.format('{0:.5f}',a_deg)\n",
    "\n",
    "wavelet_name = 'mexh'\n",
    "grid_scale_deg = 0.1\n",
    "str_grid_scale_deg = str.format('{0:.4f}',grid_scale_deg)\n",
    "file_name = wavelet_name + '_' + 'coefficient_map' + '_' + str_a_deg + '_' + str_grid_scale_deg + '.npy'\n",
    "cwt_map_og = np.load(patch_dir + file_name, allow_pickle = True)\n",
    "cwt_map_test = np.load(patch_dir + wavelet_name + '_' + 'coefficient_map_test' + '_' + str_a_deg + '_' + str_grid_scale_deg + '.npy', allow_pickle = True)\n",
    "projected_map = dict(np.load(patch_dir + 'projected_map_dict.npz'))\n",
    "\n",
    "# decided to separate grid and projected maps into two different dictionaries\n",
    "# grid is defined using the total background map for all energies\n",
    "bkgd_patch_dir_all_energies = model_dir + 'bkgd/' + '/' + 'projected_maps/' + 'map_' + str(npix) + '/'\n",
    "grid_dict = dict(np.load(bkgd_patch_dir_all_energies + 'grid_dict_' + str_grid_scale_deg + '_' + '.npz'))\n",
    "mesh_bxby = grid_dict['rectangular_grid']\n",
    "grid = grid_dict['grid']"
   ]
  },
  {
   "cell_type": "code",
   "execution_count": 20,
   "metadata": {},
   "outputs": [],
   "source": [
    "r_out_edge = projected_map['outer_region_edge']\n",
    "x_out_edge = r_out_edge[:,0] ; y_out_edge = r_out_edge[:,1]\n",
    "bx_min, bx_max, by_min, by_max = [np.min(x_out_edge), np.max(x_out_edge),\n",
    "                                  np.min(y_out_edge), np.max(y_out_edge)]"
   ]
  },
  {
   "cell_type": "code",
   "execution_count": 21,
   "metadata": {},
   "outputs": [],
   "source": [
    "scale = 0.1 * np.pi / 180\n",
    "step_size = scale \n",
    "mesh_bxby, arr_b, arr_bx_plot, arr_by_plot = maps.build_mesh_(bx_min, bx_max, by_min, by_max, step_size, step_size, return_arrays_for_plotting=True)\n",
    "arr_bx = 0.5 * (arr_bx_plot[:-1] + arr_bx_plot[1:])\n",
    "arr_by = 0.5 * (arr_by_plot[:-1] + arr_by_plot[1:])"
   ]
  },
  {
   "cell_type": "code",
   "execution_count": 26,
   "metadata": {},
   "outputs": [
    {
     "data": {
      "text/plain": [
       "(-0.2244764531075387,\n",
       " 0.22407316465500463,\n",
       " -0.20250660088193076,\n",
       " 0.2041551148327486)"
      ]
     },
     "execution_count": 26,
     "metadata": {},
     "output_type": "execute_result"
    },
    {
     "data": {
      "image/png": "[encoded data removed]",
      "text/plain": [
       "<Figure size 864x576 with 4 Axes>"
      ]
     },
     "metadata": {
      "needs_background": "light"
     },
     "output_type": "display_data"
    }
   ],
   "source": [
    "fig = plt.figure(1,figsize=(12,8))\n",
    "ax = fig.add_subplot(121)\n",
    "\n",
    "plot = ax.pcolormesh(arr_bx_plot, arr_by_plot, cwt_map_og[:,:,0], cmap='cividis', shading='flat'\n",
    "                     , norm=mpl.colors.Normalize(vmin=np.min(cwt_map_og[:,:,0]), \n",
    "                                                 vmax=np.max(cwt_map_og[:,:,0])))\n",
    "plt.colorbar(plot)\n",
    "plt.xlabel('x (rad)')\n",
    "plt.ylabel('y (rad)')\n",
    "ax.axis('equal')\n",
    "\n",
    "ax = fig.add_subplot(122)\n",
    "\n",
    "plot = ax.pcolormesh(arr_bx_plot, arr_by_plot, cwt_map_test[:,:,0], cmap='cividis', shading='flat'\n",
    "                     , norm=mpl.colors.Normalize(vmin=np.min(cwt_map_test[:,:,0]), \n",
    "                                                 vmax=np.max(cwt_map_test[:,:,0])))\n",
    "plt.colorbar(plot)\n",
    "plt.xlabel('x (rad)')\n",
    "plt.ylabel('y (rad)')\n",
    "ax.axis('equal')"
   ]
  },
  {
   "cell_type": "code",
   "execution_count": null,
   "metadata": {},
   "outputs": [],
   "source": []
  }
 ],
 "metadata": {
  "kernelspec": {
   "display_name": "Python 3",
   "language": "python",
   "name": "python3"
  },
  "language_info": {
   "codemirror_mode": {
    "name": "ipython",
    "version": 3
   },
   "file_extension": ".py",
   "mimetype": "text/x-python",
   "name": "python",
   "nbconvert_exporter": "python",
   "pygments_lexer": "ipython3",
   "version": "3.7.10"
  },
  "orig_nbformat": 4
 },
 "nbformat": 4,
 "nbformat_minor": 2
}

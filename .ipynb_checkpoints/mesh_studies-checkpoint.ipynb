{
 "cells": [
  {
   "cell_type": "code",
   "execution_count": 16,
   "id": "431fd05d",
   "metadata": {},
   "outputs": [],
   "source": [
    "import numpy as np"
   ]
  },
  {
   "cell_type": "code",
   "execution_count": 17,
   "id": "0c6e711c",
   "metadata": {},
   "outputs": [],
   "source": [
    "arr_a = np.arange(3)\n",
    "arr_b = 10 * np.arange(3)\n",
    "arr_c = 100 * np.arange(3)\n",
    "arr_d = 1000 * np.arange(3)"
   ]
  },
  {
   "cell_type": "code",
   "execution_count": 25,
   "id": "2b77df6d",
   "metadata": {},
   "outputs": [],
   "source": [
    "mesh_a, mesh_b, mesh_c = np.meshgrid(arr_a,arr_b,arr_c)\n",
    "mesh = np.stack((mesh_c, mesh_a, mesh_b), axis=-1)\n",
    "arr = mesh.reshape(3*3*3,3)"
   ]
  },
  {
   "cell_type": "code",
   "execution_count": 26,
   "id": "bebc0829",
   "metadata": {},
   "outputs": [
    {
     "data": {
      "text/plain": [
       "array([[  0,   0,   0],\n",
       "       [100,   0,   0],\n",
       "       [200,   0,   0],\n",
       "       [  0,   1,   0],\n",
       "       [100,   1,   0],\n",
       "       [200,   1,   0],\n",
       "       [  0,   2,   0],\n",
       "       [100,   2,   0],\n",
       "       [200,   2,   0],\n",
       "       [  0,   0,  10],\n",
       "       [100,   0,  10],\n",
       "       [200,   0,  10],\n",
       "       [  0,   1,  10],\n",
       "       [100,   1,  10],\n",
       "       [200,   1,  10],\n",
       "       [  0,   2,  10],\n",
       "       [100,   2,  10],\n",
       "       [200,   2,  10],\n",
       "       [  0,   0,  20],\n",
       "       [100,   0,  20],\n",
       "       [200,   0,  20],\n",
       "       [  0,   1,  20],\n",
       "       [100,   1,  20],\n",
       "       [200,   1,  20],\n",
       "       [  0,   2,  20],\n",
       "       [100,   2,  20],\n",
       "       [200,   2,  20]])"
      ]
     },
     "execution_count": 26,
     "metadata": {},
     "output_type": "execute_result"
    }
   ],
   "source": [
    "arr"
   ]
  },
  {
   "cell_type": "code",
   "execution_count": null,
   "id": "f4c26da8",
   "metadata": {},
   "outputs": [],
   "source": []
  }
 ],
 "metadata": {
  "kernelspec": {
   "display_name": "Python 3",
   "language": "python",
   "name": "python3"
  },
  "language_info": {
   "codemirror_mode": {
    "name": "ipython",
    "version": 3
   },
   "file_extension": ".py",
   "mimetype": "text/x-python",
   "name": "python",
   "nbconvert_exporter": "python",
   "pygments_lexer": "ipython3",
   "version": "3.7.10"
  }
 },
 "nbformat": 4,
 "nbformat_minor": 5
}

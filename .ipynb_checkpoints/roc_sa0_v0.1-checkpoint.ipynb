{
 "cells": [
  {
   "cell_type": "code",
   "execution_count": 8,
   "id": "bf42eb74",
   "metadata": {},
   "outputs": [],
   "source": [
    "import numpy as np\n",
    "import sys, os\n",
    "import _maps as maps\n",
    "\n",
    "import healpy as hp\n",
    "import astropy_healpix\n",
    "\n",
    "import matplotlib.pyplot as plt\n",
    "import matplotlib as mpl\n",
    "\n",
    "from scipy import ndimage as ndi\n",
    "from skimage.feature import peak_local_max\n",
    "from skimage import data, img_as_float"
   ]
  },
  {
   "cell_type": "code",
   "execution_count": 9,
   "id": "7236ea08",
   "metadata": {},
   "outputs": [],
   "source": [
    "# load local directory\n",
    "username=\"ramirez\"\n",
    "local_dir = \"/het/p4/\"+username+\"/gcewavelets/skysearch/\"\n",
    "maps_dir = \"/het/p4/\"+username+\"/gcewavelets/skysearch/data/maps/\"\n",
    "\n",
    "# ---\n",
    " # Block: Specify map ids\n",
    "model = 'SA0' # only available option: SA0\n",
    "trial_id = str(0)\n",
    "model_dir = maps_dir + (model + '_' + trial_id + '/')\n",
    "energy_bin = 'all'\n",
    "map_type = 'all'\n",
    "\n",
    "# load events from map \n",
    "if energy_bin == 'all' or energy_bin == str(-1):\n",
    "    if map_type == 'bkgd':\n",
    "        map_dir = model_dir + 'bkgd/'\n",
    "    elif map_type == 'all':\n",
    "        inj_id = str(0)\n",
    "        map_dir = model_dir + ('bkgd_wps_' + inj_id + '/') \n",
    "else:\n",
    "    ie = int(float(energy_bin))\n",
    "    if map_type == 'bkgd':\n",
    "        bkgd_dir = model_dir + 'bkgd/'\n",
    "        map_dir = bkgd_dir + 'energy_bin_' + str(ie) + '/'\n",
    "    elif map_type == 'all':\n",
    "        inj_id = str(0)\n",
    "        bkgd_wps_dir = model_dir + ('bkgd_wps_' + inj_id + '/')\n",
    "        map_dir = bkgd_wps_dir + 'energy_bin_' + str(ie) + '/'  \n",
    "\n",
    "data_dir = map_dir + 'projected_maps/'\n",
    "# ---\n",
    "\n",
    "# load father pixel and data\n",
    "npix = np.random.randint(192)\n",
    "npix = 58\n",
    "patch_dir = data_dir + 'map_' + str(npix) + '/'"
   ]
  },
  {
   "cell_type": "code",
   "execution_count": 10,
   "id": "9b55a499",
   "metadata": {},
   "outputs": [],
   "source": [
    "a_deg = 0.6\n",
    "str_a_deg = str.format('{0:.5f}',a_deg)\n",
    "\n",
    "wavelet_name = 'mexh'\n",
    "grid_scale_deg = 0.1\n",
    "str_grid_scale_deg = str.format('{0:.4f}',grid_scale_deg)\n",
    "file_name = wavelet_name + '_' + 'coefficient_map' + '_' + str_a_deg + '_' + str_grid_scale_deg + '.npy'\n",
    "cwt_map = np.load(patch_dir + file_name, allow_pickle = True)\n",
    "projected_map = dict(np.load(patch_dir + 'projected_map_dict.npz'))\n",
    "\n",
    "# decided to separate grid and projected maps into two different dictionaries\n",
    "# grid is defined using the total background map for all energies\n",
    "bkgd_patch_dir_all_energies = model_dir + 'bkgd/' + 'projected_maps/' + 'map_' + str(npix) + '/'\n",
    "grid_dict = dict(np.load(bkgd_patch_dir_all_energies + 'grid_dict_' + str_grid_scale_deg + '_' + '.npz'))\n",
    "mesh_bxby = grid_dict['rectangular_grid']\n",
    "grid = grid_dict['grid']"
   ]
  },
  {
   "cell_type": "code",
   "execution_count": 11,
   "id": "5356e52e",
   "metadata": {},
   "outputs": [],
   "source": [
    "data = projected_map['outmost_region_points']\n",
    "mesh_bxby = grid_dict['rectangular_grid']\n",
    "grid = grid_dict['grid']"
   ]
  },
  {
   "cell_type": "code",
   "execution_count": 12,
   "id": "617fff9d",
   "metadata": {},
   "outputs": [],
   "source": [
    "r_out_edge = projected_map['outer_region_edge']\n",
    "x_out_edge = r_out_edge[:,0] ; y_out_edge = r_out_edge[:,1]\n",
    "bx_min, bx_max, by_min, by_max = [np.min(x_out_edge), np.max(x_out_edge),\n",
    "                                  np.min(y_out_edge), np.max(y_out_edge)]"
   ]
  },
  {
   "cell_type": "code",
   "execution_count": 21,
   "id": "069d8277",
   "metadata": {},
   "outputs": [],
   "source": [
    "scale = 0.1 * np.pi / 180\n",
    "step_size = scale \n",
    "mesh_bxby, arr_b, arr_bx_plot, arr_by_plot = maps.build_mesh_(bx_min, bx_max, by_min, by_max, step_size, step_size, return_arrays_for_plotting=True)\n",
    "\n",
    "arr_bx = 0.5 * (arr_bx_plot[:-1] + arr_bx_plot[1:])\n",
    "arr_by = 0.5 * (arr_by_plot[:-1] + arr_by_plot[1:])"
   ]
  },
  {
   "cell_type": "code",
   "execution_count": 22,
   "id": "c263b3d5",
   "metadata": {},
   "outputs": [],
   "source": [
    "events_loc = np.load(map_dir + 'ps_loc.npy', allow_pickle = True)\n",
    "l_events_loc = events_loc[:,0]\n",
    "b_events_loc = events_loc[:,1]\n",
    "\n",
    "phi_events_loc = l_events_loc.copy()\n",
    "phi_events_loc[phi_events_loc>np.pi] = phi_events_loc[phi_events_loc>np.pi]-2*np.pi\n",
    "\n",
    "lon_events_loc = phi_events_loc + np.pi\n",
    "lat_events_loc = b_events_loc"
   ]
  },
  {
   "cell_type": "code",
   "execution_count": 23,
   "id": "23ba2b33",
   "metadata": {},
   "outputs": [],
   "source": [
    "arr_edge_points = maps.healpix_edge_generator_(NSIDE = 4, step = 100)\n",
    "lon_edge = arr_edge_points[npix, :, 0] ; lat_edge = arr_edge_points[npix, :, 1]"
   ]
  },
  {
   "cell_type": "code",
   "execution_count": 24,
   "id": "f04219dd",
   "metadata": {},
   "outputs": [],
   "source": [
    "grouped_loc_lon, grouped_loc_lat = maps.divide_data_into_groups_(lon_events_loc, lat_events_loc, arr_edge_points)\n",
    "lon_events_loc_npix = grouped_loc_lon[npix]\n",
    "lat_events_loc_npix = grouped_loc_lat[npix]\n",
    "\n",
    "lon_c, lat_c = projected_map['center_coords']\n",
    "r_loc = np.array(maps.tangent_plane_proj_(lat_events_loc_npix, lon_events_loc_npix, lat_c, lon_c))\n",
    "\n",
    "N_ps = r_loc.shape[0]"
   ]
  },
  {
   "cell_type": "code",
   "execution_count": 25,
   "id": "fa0b17ac",
   "metadata": {},
   "outputs": [],
   "source": [
    "arr_edge_points = projected_map['search_region_edge']\n",
    "x_edge = arr_edge_points[:,0] ; y_edge = arr_edge_points[:,1]\n",
    "\n",
    "Ny,Nx = mesh_bxby.shape[:-1]\n",
    "grid_pix_flat = maps.find_points_inside_curve_(arr_b[:,0], arr_b[:,1], x_edge, y_edge, return_grid=True) # 2D array\n",
    "grid_pix = grid_pix_flat.reshape((Ny,Nx))\n",
    "grid_points = arr_b[grid_pix_flat,:]\n",
    "\n",
    "N_grid = grid_points.shape[0]"
   ]
  },
  {
   "cell_type": "code",
   "execution_count": 51,
   "id": "63a29ef9",
   "metadata": {},
   "outputs": [],
   "source": [
    "S0_list = np.arange(0.001,1+0.001,0.001)\n",
    "\n",
    "N_S0 = len(S0_list)\n",
    "\n",
    "arr_fp = np.zeros((N_S0))\n",
    "arr_tp = np.zeros((N_S0))\n",
    "arr_fn = np.zeros((N_S0))\n",
    "arr_tn = np.zeros((N_S0))\n",
    "\n",
    "# single a-value \n",
    "psf_degree = 0.4 \n",
    "psf_scale = psf_degree * np.pi / 180\n",
    "grid_scale = 0.1 * np.pi / 180\n",
    "N_pix_psf = int(3*psf_scale / grid_scale)\n",
    "\n",
    "\n",
    "for n_S0 in range(N_S0):\n",
    "    S0 = S0_list[n_S0]\n",
    "    \n",
    "    cwt_map_thresh = np.copy(cwt_map[:,:,0])\n",
    "    thresh_map = (cwt_map_thresh > S0)\n",
    "    cwt_map_thresh[~thresh_map] = 0\n",
    "    \n",
    "    coordinates = peak_local_max(cwt_map_thresh, min_distance=N_pix_psf, \n",
    "                             threshold_abs = S0)\n",
    "    \n",
    "    nx = coordinates[:,1]\n",
    "    ny = coordinates[:,0]\n",
    "\n",
    "    pos_x = arr_bx[nx]\n",
    "    pos_y = arr_by[ny]\n",
    "    \n",
    "    x_in, y_in = maps.find_points_inside_curve_(pos_x, pos_y, x_edge, y_edge)\n",
    "    detection_pos = np.stack((x_in, y_in), axis = -1)\n",
    "    N_detect = len(x_in)\n",
    "\n",
    "    relative_positions = r_loc[:,np.newaxis,:] - detection_pos\n",
    "    distances_from_ps = np.linalg.norm(relative_positions, axis = -1)\n",
    "    min_rel_pos = np.min(distances_from_ps, axis = 0)\n",
    "    \n",
    "    thresh_dist = (min_rel_pos < np.sqrt(psf_scale**2. + grid_scale**2.) )\n",
    "    min_rel_pos_thresh = min_rel_pos[thresh_dist] \n",
    "    \n",
    "    tp = len(min_rel_pos_thresh) \n",
    "    fp = len(min_rel_pos) - len(min_rel_pos_thresh)\n",
    "    fn = N_ps - tp\n",
    "    tn = N_grid - tp - fp - fn\n",
    "    \n",
    "    arr_tp[n_S0] = tp\n",
    "    arr_fp[n_S0] = fp\n",
    "    arr_fn[n_S0] = fn\n",
    "    arr_tn[n_S0] = tn"
   ]
  },
  {
   "cell_type": "code",
   "execution_count": 52,
   "id": "bcb0e701",
   "metadata": {},
   "outputs": [],
   "source": [
    "arr_tpr = arr_tp / (arr_tp + arr_fn)\n",
    "arr_fpr = arr_fp / (arr_fp + arr_tn)"
   ]
  },
  {
   "cell_type": "code",
   "execution_count": 54,
   "id": "2c2c909d",
   "metadata": {},
   "outputs": [
    {
     "data": {
      "text/plain": [
       "[<matplotlib.lines.Line2D at 0x7fa9bc0d0590>]"
      ]
     },
     "execution_count": 54,
     "metadata": {},
     "output_type": "execute_result"
    },
    {
     "data": {
      "image/png": "[encoded data removed]",
      "text/plain": [
       "<Figure size 432x288 with 1 Axes>"
      ]
     },
     "metadata": {
      "needs_background": "light"
     },
     "output_type": "display_data"
    }
   ],
   "source": [
    "plt.plot(arr_fp, arr_tpr)"
   ]
  },
  {
   "cell_type": "code",
   "execution_count": 44,
   "id": "95f15994",
   "metadata": {},
   "outputs": [
    {
     "data": {
      "text/plain": [
       "array([0., 0., 0., 0., 0., 0., 0., 0., 0., 0., 0., 0., 0., 0., 0., 0., 0.,\n",
       "       0., 0., 0., 0., 0., 0., 0., 0., 0., 0., 0., 0., 0., 0., 0., 0., 0.,\n",
       "       0., 0., 0., 0., 0., 0., 0., 0., 0., 0., 0., 0., 0., 0., 0., 0., 0.,\n",
       "       0., 0., 0., 0., 0., 0., 0., 0., 0., 0., 0., 0., 0., 0., 0., 0., 0.,\n",
       "       0., 0., 0., 0., 0., 0., 0., 0., 0., 0., 0., 0., 0., 0., 0., 0., 0.,\n",
       "       0., 0., 0., 0., 0., 0., 0., 0., 0., 0., 0., 0., 0., 0., 0.])"
      ]
     },
     "execution_count": 44,
     "metadata": {},
     "output_type": "execute_result"
    }
   ],
   "source": [
    "arr_fp"
   ]
  },
  {
   "cell_type": "code",
   "execution_count": null,
   "id": "47c155e0",
   "metadata": {},
   "outputs": [],
   "source": []
  }
 ],
 "metadata": {
  "kernelspec": {
   "display_name": "Python 3",
   "language": "python",
   "name": "python3"
  },
  "language_info": {
   "codemirror_mode": {
    "name": "ipython",
    "version": 3
   },
   "file_extension": ".py",
   "mimetype": "text/x-python",
   "name": "python",
   "nbconvert_exporter": "python",
   "pygments_lexer": "ipython3",
   "version": "3.7.10"
  }
 },
 "nbformat": 4,
 "nbformat_minor": 5
}

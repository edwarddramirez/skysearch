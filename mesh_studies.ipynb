{
 "cells": [
  {
   "cell_type": "code",
   "execution_count": null,
   "id": "3411beee",
   "metadata": {},
   "outputs": [],
   "source": [
    "import os\n",
    "os.chdir('/het/p4/ramirez/gcewavelets/skysearch/code/')"
   ]
  },
  {
   "cell_type": "code",
   "execution_count": 27,
   "id": "dd8c918a",
   "metadata": {},
   "outputs": [],
   "source": [
    "import numpy as np"
   ]
  },
  {
   "cell_type": "code",
   "execution_count": 28,
   "id": "3d271da4",
   "metadata": {},
   "outputs": [],
   "source": [
    "arr_a = np.arange(3)\n",
    "arr_b = 10 * np.arange(3)\n",
    "arr_c = 100 * np.arange(3)\n",
    "arr_d = 1000 * np.arange(3)"
   ]
  },
  {
   "cell_type": "code",
   "execution_count": 25,
   "id": "68dfeb0b",
   "metadata": {},
   "outputs": [],
   "source": [
    "mesh_a, mesh_b, mesh_c = np.meshgrid(arr_a,arr_b,arr_c)\n",
    "mesh = np.stack((mesh_c, mesh_a, mesh_b), axis=-1)\n",
    "arr = mesh.reshape(3*3*3,3)"
   ]
  },
  {
   "cell_type": "code",
   "execution_count": 26,
   "id": "e547f75b",
   "metadata": {},
   "outputs": [
    {
     "data": {
      "text/plain": [
       "array([[  0,   0,   0],\n",
       "       [100,   0,   0],\n",
       "       [200,   0,   0],\n",
       "       [  0,   1,   0],\n",
       "       [100,   1,   0],\n",
       "       [200,   1,   0],\n",
       "       [  0,   2,   0],\n",
       "       [100,   2,   0],\n",
       "       [200,   2,   0],\n",
       "       [  0,   0,  10],\n",
       "       [100,   0,  10],\n",
       "       [200,   0,  10],\n",
       "       [  0,   1,  10],\n",
       "       [100,   1,  10],\n",
       "       [200,   1,  10],\n",
       "       [  0,   2,  10],\n",
       "       [100,   2,  10],\n",
       "       [200,   2,  10],\n",
       "       [  0,   0,  20],\n",
       "       [100,   0,  20],\n",
       "       [200,   0,  20],\n",
       "       [  0,   1,  20],\n",
       "       [100,   1,  20],\n",
       "       [200,   1,  20],\n",
       "       [  0,   2,  20],\n",
       "       [100,   2,  20],\n",
       "       [200,   2,  20]])"
      ]
     },
     "execution_count": 26,
     "metadata": {},
     "output_type": "execute_result"
    }
   ],
   "source": [
    "arr"
   ]
  },
  {
   "cell_type": "code",
   "execution_count": 31,
   "id": "43b24255",
   "metadata": {},
   "outputs": [],
   "source": [
    "mesh_a, mesh_b, mesh_c, mesh_d = np.meshgrid(arr_a,arr_b,arr_c,arr_d)\n",
    "mesh = np.stack((mesh_d, mesh_c, mesh_a, mesh_b), axis=-1)\n",
    "arr = mesh.reshape(3*3*3*3,4)"
   ]
  },
  {
   "cell_type": "code",
   "execution_count": 32,
   "id": "acbc7d63",
   "metadata": {
    "scrolled": true
   },
   "outputs": [
    {
     "data": {
      "text/plain": [
       "array([[   0,    0,    0,    0],\n",
       "       [1000,    0,    0,    0],\n",
       "       [2000,    0,    0,    0],\n",
       "       [   0,  100,    0,    0],\n",
       "       [1000,  100,    0,    0],\n",
       "       [2000,  100,    0,    0],\n",
       "       [   0,  200,    0,    0],\n",
       "       [1000,  200,    0,    0],\n",
       "       [2000,  200,    0,    0],\n",
       "       [   0,    0,    1,    0],\n",
       "       [1000,    0,    1,    0],\n",
       "       [2000,    0,    1,    0],\n",
       "       [   0,  100,    1,    0],\n",
       "       [1000,  100,    1,    0],\n",
       "       [2000,  100,    1,    0],\n",
       "       [   0,  200,    1,    0],\n",
       "       [1000,  200,    1,    0],\n",
       "       [2000,  200,    1,    0],\n",
       "       [   0,    0,    2,    0],\n",
       "       [1000,    0,    2,    0],\n",
       "       [2000,    0,    2,    0],\n",
       "       [   0,  100,    2,    0],\n",
       "       [1000,  100,    2,    0],\n",
       "       [2000,  100,    2,    0],\n",
       "       [   0,  200,    2,    0],\n",
       "       [1000,  200,    2,    0],\n",
       "       [2000,  200,    2,    0],\n",
       "       [   0,    0,    0,   10],\n",
       "       [1000,    0,    0,   10],\n",
       "       [2000,    0,    0,   10],\n",
       "       [   0,  100,    0,   10],\n",
       "       [1000,  100,    0,   10],\n",
       "       [2000,  100,    0,   10],\n",
       "       [   0,  200,    0,   10],\n",
       "       [1000,  200,    0,   10],\n",
       "       [2000,  200,    0,   10],\n",
       "       [   0,    0,    1,   10],\n",
       "       [1000,    0,    1,   10],\n",
       "       [2000,    0,    1,   10],\n",
       "       [   0,  100,    1,   10],\n",
       "       [1000,  100,    1,   10],\n",
       "       [2000,  100,    1,   10],\n",
       "       [   0,  200,    1,   10],\n",
       "       [1000,  200,    1,   10],\n",
       "       [2000,  200,    1,   10],\n",
       "       [   0,    0,    2,   10],\n",
       "       [1000,    0,    2,   10],\n",
       "       [2000,    0,    2,   10],\n",
       "       [   0,  100,    2,   10],\n",
       "       [1000,  100,    2,   10],\n",
       "       [2000,  100,    2,   10],\n",
       "       [   0,  200,    2,   10],\n",
       "       [1000,  200,    2,   10],\n",
       "       [2000,  200,    2,   10],\n",
       "       [   0,    0,    0,   20],\n",
       "       [1000,    0,    0,   20],\n",
       "       [2000,    0,    0,   20],\n",
       "       [   0,  100,    0,   20],\n",
       "       [1000,  100,    0,   20],\n",
       "       [2000,  100,    0,   20],\n",
       "       [   0,  200,    0,   20],\n",
       "       [1000,  200,    0,   20],\n",
       "       [2000,  200,    0,   20],\n",
       "       [   0,    0,    1,   20],\n",
       "       [1000,    0,    1,   20],\n",
       "       [2000,    0,    1,   20],\n",
       "       [   0,  100,    1,   20],\n",
       "       [1000,  100,    1,   20],\n",
       "       [2000,  100,    1,   20],\n",
       "       [   0,  200,    1,   20],\n",
       "       [1000,  200,    1,   20],\n",
       "       [2000,  200,    1,   20],\n",
       "       [   0,    0,    2,   20],\n",
       "       [1000,    0,    2,   20],\n",
       "       [2000,    0,    2,   20],\n",
       "       [   0,  100,    2,   20],\n",
       "       [1000,  100,    2,   20],\n",
       "       [2000,  100,    2,   20],\n",
       "       [   0,  200,    2,   20],\n",
       "       [1000,  200,    2,   20],\n",
       "       [2000,  200,    2,   20]])"
      ]
     },
     "execution_count": 32,
     "metadata": {},
     "output_type": "execute_result"
    }
   ],
   "source": [
    "arr"
   ]
  },
  {
   "cell_type": "code",
   "execution_count": 33,
   "id": "baedd075",
   "metadata": {},
   "outputs": [
    {
     "data": {
      "text/plain": [
       "array([0])"
      ]
     },
     "execution_count": 33,
     "metadata": {},
     "output_type": "execute_result"
    }
   ],
   "source": [
    "np.arange(1)"
   ]
  },
  {
   "cell_type": "code",
   "execution_count": 34,
   "id": "0bb81ef8",
   "metadata": {},
   "outputs": [],
   "source": [
    "mesh_a, mesh_b = np.meshgrid(arr_a,arr_b)\n",
    "mesh = np.stack((mesh_a, mesh_b), axis=-1)\n",
    "arr = mesh.reshape(3*3,2)"
   ]
  },
  {
   "cell_type": "code",
   "execution_count": 35,
   "id": "209a81df",
   "metadata": {},
   "outputs": [
    {
     "name": "stdout",
     "output_type": "stream",
     "text": [
      "[[ 0  0]\n",
      " [ 1  0]\n",
      " [ 2  0]\n",
      " [ 0 10]\n",
      " [ 1 10]\n",
      " [ 2 10]\n",
      " [ 0 20]\n",
      " [ 1 20]\n",
      " [ 2 20]]\n"
     ]
    }
   ],
   "source": [
    "print(arr)"
   ]
  },
  {
   "cell_type": "code",
   "execution_count": null,
   "id": "a1d8ab81",
   "metadata": {},
   "outputs": [],
   "source": []
  }
 ],
 "metadata": {
  "kernelspec": {
   "display_name": "Python 3",
   "language": "python",
   "name": "python3"
  },
  "language_info": {
   "codemirror_mode": {
    "name": "ipython",
    "version": 3
   },
   "file_extension": ".py",
   "mimetype": "text/x-python",
   "name": "python",
   "nbconvert_exporter": "python",
   "pygments_lexer": "ipython3",
   "version": "3.7.10"
  }
 },
 "nbformat": 4,
 "nbformat_minor": 5
}

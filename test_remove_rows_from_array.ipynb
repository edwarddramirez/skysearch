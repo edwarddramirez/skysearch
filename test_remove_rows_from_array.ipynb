{
 "cells": [
  {
   "cell_type": "code",
   "execution_count": 96,
   "id": "eefa71e3",
   "metadata": {},
   "outputs": [],
   "source": [
    "import numpy as np\n",
    "\n",
    "r = np.random.rand(100,2)"
   ]
  },
  {
   "cell_type": "code",
   "execution_count": 97,
   "id": "cd5758e8",
   "metadata": {},
   "outputs": [],
   "source": [
    "r_half = r[0:-1:2]"
   ]
  },
  {
   "cell_type": "code",
   "execution_count": 98,
   "id": "018f9c3c",
   "metadata": {},
   "outputs": [
    {
     "name": "stdout",
     "output_type": "stream",
     "text": [
      "(50, 2)\n"
     ]
    }
   ],
   "source": [
    "print(r_half.shape)"
   ]
  },
  {
   "cell_type": "code",
   "execution_count": 99,
   "id": "f4f50959",
   "metadata": {},
   "outputs": [],
   "source": [
    "def in1d_approach(A,B):\n",
    "    dims = np.maximum(B.max(0),A.max(0))+1\n",
    "    return A[~np.in1d(np.ravel_multi_index(A.T,dims),np.ravel_multi_index(B.T,dims))]"
   ]
  },
  {
   "cell_type": "code",
   "execution_count": 100,
   "id": "3ecdc5ba",
   "metadata": {},
   "outputs": [
    {
     "ename": "TypeError",
     "evalue": "'numpy.float64' object cannot be interpreted as an integer",
     "output_type": "error",
     "traceback": [
      "\u001b[0;31m---------------------------------------------------------------------------\u001b[0m",
      "\u001b[0;31mTypeError\u001b[0m                                 Traceback (most recent call last)",
      "\u001b[0;32m<ipython-input-100-c411b3086702>\u001b[0m in \u001b[0;36m<module>\u001b[0;34m\u001b[0m\n\u001b[0;32m----> 1\u001b[0;31m \u001b[0mr_other_half\u001b[0m \u001b[0;34m=\u001b[0m \u001b[0min1d_approach\u001b[0m\u001b[0;34m(\u001b[0m\u001b[0mr_half\u001b[0m\u001b[0;34m,\u001b[0m \u001b[0mr\u001b[0m\u001b[0;34m)\u001b[0m\u001b[0;34m\u001b[0m\u001b[0;34m\u001b[0m\u001b[0m\n\u001b[0m",
      "\u001b[0;32m<ipython-input-99-0544e98b0206>\u001b[0m in \u001b[0;36min1d_approach\u001b[0;34m(A, B)\u001b[0m\n\u001b[1;32m      1\u001b[0m \u001b[0;32mdef\u001b[0m \u001b[0min1d_approach\u001b[0m\u001b[0;34m(\u001b[0m\u001b[0mA\u001b[0m\u001b[0;34m,\u001b[0m\u001b[0mB\u001b[0m\u001b[0;34m)\u001b[0m\u001b[0;34m:\u001b[0m\u001b[0;34m\u001b[0m\u001b[0;34m\u001b[0m\u001b[0m\n\u001b[1;32m      2\u001b[0m     \u001b[0mdims\u001b[0m \u001b[0;34m=\u001b[0m \u001b[0mnp\u001b[0m\u001b[0;34m.\u001b[0m\u001b[0mmaximum\u001b[0m\u001b[0;34m(\u001b[0m\u001b[0mB\u001b[0m\u001b[0;34m.\u001b[0m\u001b[0mmax\u001b[0m\u001b[0;34m(\u001b[0m\u001b[0;36m0\u001b[0m\u001b[0;34m)\u001b[0m\u001b[0;34m,\u001b[0m\u001b[0mA\u001b[0m\u001b[0;34m.\u001b[0m\u001b[0mmax\u001b[0m\u001b[0;34m(\u001b[0m\u001b[0;36m0\u001b[0m\u001b[0;34m)\u001b[0m\u001b[0;34m)\u001b[0m\u001b[0;34m+\u001b[0m\u001b[0;36m1\u001b[0m\u001b[0;34m\u001b[0m\u001b[0;34m\u001b[0m\u001b[0m\n\u001b[0;32m----> 3\u001b[0;31m     \u001b[0;32mreturn\u001b[0m \u001b[0mA\u001b[0m\u001b[0;34m[\u001b[0m\u001b[0;34m~\u001b[0m\u001b[0mnp\u001b[0m\u001b[0;34m.\u001b[0m\u001b[0min1d\u001b[0m\u001b[0;34m(\u001b[0m\u001b[0mnp\u001b[0m\u001b[0;34m.\u001b[0m\u001b[0mravel_multi_index\u001b[0m\u001b[0;34m(\u001b[0m\u001b[0mA\u001b[0m\u001b[0;34m.\u001b[0m\u001b[0mT\u001b[0m\u001b[0;34m,\u001b[0m\u001b[0mdims\u001b[0m\u001b[0;34m)\u001b[0m\u001b[0;34m,\u001b[0m\u001b[0mnp\u001b[0m\u001b[0;34m.\u001b[0m\u001b[0mravel_multi_index\u001b[0m\u001b[0;34m(\u001b[0m\u001b[0mB\u001b[0m\u001b[0;34m.\u001b[0m\u001b[0mT\u001b[0m\u001b[0;34m,\u001b[0m\u001b[0mdims\u001b[0m\u001b[0;34m)\u001b[0m\u001b[0;34m)\u001b[0m\u001b[0;34m]\u001b[0m\u001b[0;34m\u001b[0m\u001b[0;34m\u001b[0m\u001b[0m\n\u001b[0m",
      "\u001b[0;32m<__array_function__ internals>\u001b[0m in \u001b[0;36mravel_multi_index\u001b[0;34m(*args, **kwargs)\u001b[0m\n",
      "\u001b[0;31mTypeError\u001b[0m: 'numpy.float64' object cannot be interpreted as an integer"
     ]
    }
   ],
   "source": [
    "r_other_half = in1d_approach(r_half, r)"
   ]
  },
  {
   "cell_type": "code",
   "execution_count": 101,
   "id": "68c1b118",
   "metadata": {},
   "outputs": [
    {
     "data": {
      "text/plain": [
       "array([0.9959    , 0.99510917])"
      ]
     },
     "execution_count": 101,
     "metadata": {},
     "output_type": "execute_result"
    }
   ],
   "source": [
    "r.max(0)"
   ]
  },
  {
   "cell_type": "code",
   "execution_count": 102,
   "id": "a55f6349",
   "metadata": {},
   "outputs": [],
   "source": [
    "A = np.array([[1,1,1], [1,1,2], [1,1,3], [1,1,4]])\n",
    "B = np.array([[0,0,0], [1,0,2], [1,0,3], [1,0,4], [1,1,0], [1,1,1], [1,1,4]])"
   ]
  },
  {
   "cell_type": "code",
   "execution_count": 103,
   "id": "9b20342e",
   "metadata": {},
   "outputs": [],
   "source": [
    "C = in1d_approach(A,B)"
   ]
  },
  {
   "cell_type": "code",
   "execution_count": 104,
   "id": "a7aad6ef",
   "metadata": {},
   "outputs": [
    {
     "name": "stdout",
     "output_type": "stream",
     "text": [
      "[[1 1 2]\n",
      " [1 1 3]]\n"
     ]
    }
   ],
   "source": [
    "print(C)"
   ]
  },
  {
   "cell_type": "code",
   "execution_count": 105,
   "id": "fa611736",
   "metadata": {},
   "outputs": [],
   "source": [
    "def in1d_dot_approach(A,B):\n",
    "    cumdims = (np.maximum(A.max(),B.max())+1)**np.arange(B.shape[1])\n",
    "    return A[~np.in1d(A.dot(cumdims),B.dot(cumdims))]"
   ]
  },
  {
   "cell_type": "code",
   "execution_count": 106,
   "id": "273ae0f3",
   "metadata": {},
   "outputs": [
    {
     "name": "stdout",
     "output_type": "stream",
     "text": [
      "[[0.77352581 0.8481938 ]\n",
      " [0.60625979 0.35772525]\n",
      " [0.57120536 0.84425911]\n",
      " [0.95238543 0.05344448]\n",
      " [0.24432705 0.97153922]\n",
      " [0.55460139 0.99048694]\n",
      " [0.3891063  0.88729788]\n",
      " [0.10247244 0.64412613]\n",
      " [0.47041251 0.43099034]\n",
      " [0.56457424 0.74348576]\n",
      " [0.66518321 0.72816911]\n",
      " [0.93196563 0.56423947]\n",
      " [0.88986942 0.77943747]\n",
      " [0.97529797 0.17057512]\n",
      " [0.02258149 0.49787395]\n",
      " [0.00862225 0.00220557]\n",
      " [0.21376701 0.97699935]\n",
      " [0.26717966 0.36293846]\n",
      " [0.4933896  0.40990075]\n",
      " [0.91550183 0.49318463]\n",
      " [0.40121313 0.58244518]\n",
      " [0.22374113 0.62699998]\n",
      " [0.78515908 0.11564679]\n",
      " [0.8268344  0.03346232]\n",
      " [0.08050441 0.57554911]\n",
      " [0.26827004 0.7166072 ]\n",
      " [0.81395095 0.43588568]\n",
      " [0.28271289 0.13898772]\n",
      " [0.57031702 0.62302601]\n",
      " [0.58383501 0.64438053]\n",
      " [0.85466455 0.44324571]\n",
      " [0.82201221 0.82376791]\n",
      " [0.29849174 0.72089983]\n",
      " [0.39789421 0.59253663]\n",
      " [0.26169943 0.18192581]\n",
      " [0.12858764 0.50487835]\n",
      " [0.09486208 0.8119303 ]\n",
      " [0.13333125 0.77054176]\n",
      " [0.65679712 0.60190091]\n",
      " [0.17729127 0.4153522 ]\n",
      " [0.44158016 0.99189306]\n",
      " [0.48925675 0.99510917]\n",
      " [0.55940994 0.59621267]\n",
      " [0.70986683 0.72429264]\n",
      " [0.94414194 0.41868867]\n",
      " [0.8869088  0.94655884]\n",
      " [0.28172598 0.10228464]\n",
      " [0.0684717  0.98749995]\n",
      " [0.71011798 0.13864011]\n",
      " [0.34846648 0.34250295]]\n"
     ]
    }
   ],
   "source": [
    "print(r_half)"
   ]
  },
  {
   "cell_type": "code",
   "execution_count": 107,
   "id": "c14f032e",
   "metadata": {},
   "outputs": [],
   "source": [
    "np.random.shuffle(r_half)"
   ]
  },
  {
   "cell_type": "code",
   "execution_count": 108,
   "id": "b37f23c6",
   "metadata": {},
   "outputs": [
    {
     "name": "stdout",
     "output_type": "stream",
     "text": [
      "[[0.57031702 0.62302601]\n",
      " [0.12858764 0.50487835]\n",
      " [0.97529797 0.17057512]\n",
      " [0.28271289 0.13898772]\n",
      " [0.88986942 0.77943747]\n",
      " [0.39789421 0.59253663]\n",
      " [0.4933896  0.40990075]\n",
      " [0.26169943 0.18192581]\n",
      " [0.0684717  0.98749995]\n",
      " [0.56457424 0.74348576]\n",
      " [0.55940994 0.59621267]\n",
      " [0.26827004 0.7166072 ]\n",
      " [0.58383501 0.64438053]\n",
      " [0.13333125 0.77054176]\n",
      " [0.91550183 0.49318463]\n",
      " [0.55460139 0.99048694]\n",
      " [0.40121313 0.58244518]\n",
      " [0.93196563 0.56423947]\n",
      " [0.26717966 0.36293846]\n",
      " [0.78515908 0.11564679]\n",
      " [0.02258149 0.49787395]\n",
      " [0.57120536 0.84425911]\n",
      " [0.08050441 0.57554911]\n",
      " [0.71011798 0.13864011]\n",
      " [0.00862225 0.00220557]\n",
      " [0.29849174 0.72089983]\n",
      " [0.77352581 0.8481938 ]\n",
      " [0.8869088  0.94655884]\n",
      " [0.8268344  0.03346232]\n",
      " [0.17729127 0.4153522 ]\n",
      " [0.22374113 0.62699998]\n",
      " [0.24432705 0.97153922]\n",
      " [0.66518321 0.72816911]\n",
      " [0.10247244 0.64412613]\n",
      " [0.21376701 0.97699935]\n",
      " [0.47041251 0.43099034]\n",
      " [0.60625979 0.35772525]\n",
      " [0.28172598 0.10228464]\n",
      " [0.95238543 0.05344448]\n",
      " [0.81395095 0.43588568]\n",
      " [0.82201221 0.82376791]\n",
      " [0.34846648 0.34250295]\n",
      " [0.94414194 0.41868867]\n",
      " [0.3891063  0.88729788]\n",
      " [0.65679712 0.60190091]\n",
      " [0.85466455 0.44324571]\n",
      " [0.70986683 0.72429264]\n",
      " [0.48925675 0.99510917]\n",
      " [0.09486208 0.8119303 ]\n",
      " [0.44158016 0.99189306]]\n"
     ]
    }
   ],
   "source": [
    "print(r_half)"
   ]
  },
  {
   "cell_type": "code",
   "execution_count": 109,
   "id": "8a5a4ba0",
   "metadata": {},
   "outputs": [],
   "source": [
    "r_other = in1d_dot_approach(r,r_half)"
   ]
  },
  {
   "cell_type": "code",
   "execution_count": 110,
   "id": "bad4246d",
   "metadata": {},
   "outputs": [
    {
     "data": {
      "text/plain": [
       "<matplotlib.collections.PathCollection at 0x7fd4c0fa50d0>"
      ]
     },
     "execution_count": 110,
     "metadata": {},
     "output_type": "execute_result"
    },
    {
     "data": {
      "image/png": "[encoded data removed]",
      "text/plain": [
       "<Figure size 432x288 with 1 Axes>"
      ]
     },
     "metadata": {
      "needs_background": "light"
     },
     "output_type": "display_data"
    }
   ],
   "source": [
    "import matplotlib.pyplot as plt\n",
    "plt.scatter(r[:,0], r[:,1])\n",
    "plt.scatter(r_half[:,0], r_half[:,1], alpha = 1)\n",
    "plt.scatter(r_other[:,0], r_other[:,1], alpha = 1)"
   ]
  },
  {
   "cell_type": "code",
   "execution_count": 113,
   "id": "e2734f58",
   "metadata": {},
   "outputs": [
    {
     "data": {
      "text/plain": [
       "False"
      ]
     },
     "execution_count": 113,
     "metadata": {},
     "output_type": "execute_result"
    }
   ],
   "source": [
    "import _maps as maps\n",
    "r_half_copy = r_half.copy()\n",
    "np.random.shuffle(r_half_copy)\n",
    "maps.equal_ignore_order(r_half, r_half_copy)"
   ]
  },
  {
   "cell_type": "code",
   "execution_count": 116,
   "id": "a52aa318",
   "metadata": {},
   "outputs": [
    {
     "data": {
      "text/plain": [
       "True"
      ]
     },
     "execution_count": 116,
     "metadata": {},
     "output_type": "execute_result"
    }
   ],
   "source": [
    "np.array_equal(np.sort(r_half.flat), np.sort(r_half_copy.flat))"
   ]
  },
  {
   "cell_type": "code",
   "execution_count": 117,
   "id": "f7e7ec68",
   "metadata": {},
   "outputs": [],
   "source": [
    "r_half_copy[0,0] = 0"
   ]
  },
  {
   "cell_type": "code",
   "execution_count": 118,
   "id": "209743c6",
   "metadata": {},
   "outputs": [
    {
     "data": {
      "text/plain": [
       "False"
      ]
     },
     "execution_count": 118,
     "metadata": {},
     "output_type": "execute_result"
    }
   ],
   "source": [
    "np.array_equal(np.sort(r_half.flat), np.sort(r_half_copy.flat))"
   ]
  },
  {
   "cell_type": "code",
   "execution_count": null,
   "id": "173503f8",
   "metadata": {},
   "outputs": [],
   "source": []
  }
 ],
 "metadata": {
  "kernelspec": {
   "display_name": "Python 3",
   "language": "python",
   "name": "python3"
  },
  "language_info": {
   "codemirror_mode": {
    "name": "ipython",
    "version": 3
   },
   "file_extension": ".py",
   "mimetype": "text/x-python",
   "name": "python",
   "nbconvert_exporter": "python",
   "pygments_lexer": "ipython3",
   "version": "3.7.10"
  }
 },
 "nbformat": 4,
 "nbformat_minor": 5
}

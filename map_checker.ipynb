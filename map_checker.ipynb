{
 "cells": [
  {
   "cell_type": "code",
   "execution_count": null,
   "id": "bc54b8cb",
   "metadata": {},
   "outputs": [],
   "source": [
    "import os\n",
    "os.chdir('/het/p4/ramirez/gcewavelets/skysearch/code/')"
   ]
  },
  {
   "cell_type": "code",
   "execution_count": 152,
   "id": "66cef67f",
   "metadata": {},
   "outputs": [],
   "source": [
    "import numpy as np\n",
    "import sys, os\n",
    "import _maps as maps"
   ]
  },
  {
   "cell_type": "code",
   "execution_count": 153,
   "id": "1db34ed9",
   "metadata": {},
   "outputs": [],
   "source": [
    "import healpy as hp\n",
    "import astropy_healpix"
   ]
  },
  {
   "cell_type": "code",
   "execution_count": 154,
   "id": "75e19321",
   "metadata": {},
   "outputs": [],
   "source": [
    "import matplotlib.pyplot as plt"
   ]
  },
  {
   "cell_type": "code",
   "execution_count": 155,
   "id": "1c55d564",
   "metadata": {},
   "outputs": [],
   "source": [
    "# load local directory\n",
    "username=\"ramirez\"\n",
    "local_dir = \"/het/p4/\"+username+\"/gcewavelets/skysearch/\"\n",
    "maps_dir = \"/het/p4/\"+username+\"/gcewavelets/skysearch/data/maps/\"\n",
    "\n",
    "# ---\n",
    " # Block: Specify map ids \n",
    "map_dir = maps_dir + 'map_test/'\n",
    "data_dir = map_dir + 'projected_maps/' \n",
    "# ---\n",
    "\n",
    "# load father pixel and data\n",
    "npix = np.random.randint(192)\n",
    "patch_dir = data_dir + 'map_' + str(npix) + '/'"
   ]
  },
  {
   "cell_type": "code",
   "execution_count": 161,
   "id": "6d2c0834",
   "metadata": {},
   "outputs": [],
   "source": [
    "a_deg = 0.6\n",
    "str_a_deg = str.format('{0:.5f}',a_deg)\n",
    "\n",
    "wavelet_name = 'mexh'\n",
    "grid_scale_deg = 0.4 \n",
    "str_grid_scale_deg = str.format('{0:.4f}',grid_scale_deg)\n",
    "file_name = wavelet_name + '_' + 'coefficient_map' + '_' + str_a_deg + '_' + str_grid_scale_deg + '.npy'\n",
    "coefficients = np.load(patch_dir + file_name, allow_pickle = True)"
   ]
  },
  {
   "cell_type": "code",
   "execution_count": 162,
   "id": "da3664a3",
   "metadata": {},
   "outputs": [],
   "source": [
    "projected_map = dict(np.load(patch_dir + 'projected_map_dict_with_grid.npz'))\n",
    "\n",
    "data = projected_map['outmost_region_points']\n",
    "data = np.swapaxes(data, -1, -2).copy()\n",
    "mesh_bxby = projected_map['rectangular_grid']\n",
    "grid = projected_map['grid']"
   ]
  },
  {
   "cell_type": "code",
   "execution_count": 163,
   "id": "c3b67cae",
   "metadata": {},
   "outputs": [],
   "source": [
    "r_out_edge = projected_map['outer_region_edge']\n",
    "x_out_edge = r_out_edge[:,0] ; y_out_edge = r_out_edge[:,1]\n",
    "bx_min, bx_max, by_min, by_max = [np.min(x_out_edge), np.max(x_out_edge),\n",
    "                                  np.min(y_out_edge), np.max(y_out_edge)]"
   ]
  },
  {
   "cell_type": "code",
   "execution_count": 164,
   "id": "7f43df39",
   "metadata": {},
   "outputs": [],
   "source": [
    "scale = 0.4 * np.pi / 180\n",
    "step_size = scale \n",
    "mesh_bxby, arr_b, arr_bx_plot, arr_by_plot = maps.build_mesh_(bx_min, bx_max, by_min, by_max, step_size, step_size, return_arrays_for_plotting=True)"
   ]
  },
  {
   "cell_type": "code",
   "execution_count": 165,
   "id": "d2034259",
   "metadata": {},
   "outputs": [
    {
     "data": {
      "text/plain": [
       "<matplotlib.colorbar.Colorbar at 0x7fdca2bd08d0>"
      ]
     },
     "execution_count": 165,
     "metadata": {},
     "output_type": "execute_result"
    },
    {
     "data": {
      "image/png": "[encoded data removed]",
      "text/plain": [
       "<Figure size 432x288 with 2 Axes>"
      ]
     },
     "metadata": {
      "needs_background": "light"
     },
     "output_type": "display_data"
    }
   ],
   "source": [
    "plt.pcolormesh(arr_bx_plot, arr_by_plot, coefficients[:,:,0])\n",
    "plt.colorbar()"
   ]
  },
  {
   "cell_type": "code",
   "execution_count": null,
   "id": "8fd54053",
   "metadata": {},
   "outputs": [],
   "source": []
  }
 ],
 "metadata": {
  "kernelspec": {
   "display_name": "Python 3",
   "language": "python",
   "name": "python3"
  },
  "language_info": {
   "codemirror_mode": {
    "name": "ipython",
    "version": 3
   },
   "file_extension": ".py",
   "mimetype": "text/x-python",
   "name": "python",
   "nbconvert_exporter": "python",
   "pygments_lexer": "ipython3",
   "version": "3.7.10"
  }
 },
 "nbformat": 4,
 "nbformat_minor": 5
}
